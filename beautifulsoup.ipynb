{
 "cells": [
  {
   "attachments": {},
   "cell_type": "markdown",
   "id": "92282663",
   "metadata": {},
   "source": [
    "\n",
    "# Web Scraping"
   ]
  },
  {
   "cell_type": "markdown",
   "id": "70cd4624",
   "metadata": {},
   "source": [
    "El web scraping es una técnica que permite extraer datos e información de una web. "
   ]
  },
  {
   "cell_type": "markdown",
   "id": "ec97fe28",
   "metadata": {},
   "source": [
    "Herramientas que podrias usar para ello:\n",
    " - Utilizar las librerías requests y Beautiful Soup de manera conjunta (es lo que veremos en este tutorial).\n",
    " - Utilizar Selenium. Esta herramienta te va a ser util para interactuar con la web y extraer informacion de esta de una manera muy rápida.\n",
    " - Utilizar el framework Scrapy. Este framework, además de hacer scraping (extraer información de una página) permite hacer crawling fácilmente (descubrir los enlaces de una web y navegar a través de ellos).    "
   ]
  },
  {
   "cell_type": "markdown",
   "id": "57b58e7e",
   "metadata": {},
   "source": [
    "### Que es Beautiful Soup"
   ]
  },
  {
   "cell_type": "markdown",
   "id": "345cd670",
   "metadata": {},
   "source": [
    "Beautiful Soup es una librería Python que permite extraer información de contenido en formato HTML o XML. Para usarla, es necesario especificar un parser, que es responsable de transformar un documento HTML o XML en un árbol complejo de objetos Python. Esto permite, por ejemplo, que podamos interactuar con los elementos de una página web como si estuviésemos utilizando las herramientas del desarrollador de un navegador.\n",
    "\n",
    "A la hora de extraer información de una web, uno de los parsers más utilizado es el parser HTML de lxml. \n",
    "\n",
    "Para instalar la librerias, lo ideal es crear un entorno virtual e instalarlas una vez activado el entorno, para ello"
   ]
  },
  {
   "cell_type": "markdown",
   "id": "ec7c6e7f",
   "metadata": {},
   "source": [
    "<code> pip install beautifulsoup4\n",
    "<code> pip install lxml"
   ]
  },
  {
   "cell_type": "markdown",
   "id": "e0240425",
   "metadata": {},
   "source": [
    "*Documentacion en https://beautiful-soup-4.readthedocs.io/en/latest/*"
   ]
  },
  {
   "cell_type": "markdown",
   "id": "1d537a0a",
   "metadata": {},
   "source": [
    "### Pasospara hacer web scraping"
   ]
  },
  {
   "cell_type": "markdown",
   "id": "c3a2ecbf",
   "metadata": {},
   "source": [
    "#### 1 – Identifica los elementos de la página de los que extraer la información\n",
    "Las páginas web son documentos estructurados formados por una jerarquía de elementos. El primer paso para extraer información es identificar correctamente el elemento o elementos que contienen la información deseada.\n",
    "\n",
    "Lo más fácil es abrir la página en un navegador e inspeccionar el código. Veremos un ejemplo.\n",
    "\n",
    "**Importante**, mira las etiquetas, atributos, id, class, ya que posteriormente sera lo que se use para obtener la información\n",
    "\n",
    "#### 2 – Descarga el contenido de la página\n",
    "Usar la librería requests. El contenido de la respuesta, el que contiene la página en HTML, es lo que se pasa a Beautiful Soup para generar el árbol de elementos y poder hacer consultas al mismo.\n",
    "\n",
    "#### 3 – Crear la «sopa»\n",
    "Pasar el contenido de la respuesta a Beautiful Soap es lo que se conoce como hacer la «sopa», esto es, el árbol de objetos Python que representan al documento HTML.\n",
    "\n",
    "Para ello, hay que crear un objeto de tipo BeautifulSoup, al cuál se le pasa el texto en formato HTML y el identificador del parser a utilizar"
   ]
  },
  {
   "cell_type": "markdown",
   "id": "b658fd8e",
   "metadata": {},
   "source": [
    ">import requests\n",
    "\n",
    ">from bs4 import BeautifulSoup\n",
    "\n",
    ">r = request.get('https://www.comillas.edu/icai')\n",
    "\n",
    ">soup = BeautifulSoup(r.text,'lxml')"
   ]
  },
  {
   "cell_type": "markdown",
   "id": "b7847ee8",
   "metadata": {},
   "source": [
    "#### 4 – Busca los elementos en la «sopa» y obtén la información deseada\n",
    "El último paso es hacer una búsqueda en el árbol y obtener los objetos que contienen la información y datos que necesitamos. "
   ]
  },
  {
   "cell_type": "markdown",
   "id": "87d383cf",
   "metadata": {},
   "source": [
    "### Tipos de objetos de Beautiful Soup\n",
    "El objeto tipo BeautifulSoup que se crea cuando se añade la respuesta de la request, que representa al árbol de objetos Python resultante de parsear el documento HTML de entrada, será el punto de partida para navegar a través de los elementos del árbol, así como para realizar las búsquedas necesarias en el mismo.\n"
   ]
  },
  {
   "cell_type": "code",
   "execution_count": 3,
   "id": "6d51aa80",
   "metadata": {},
   "outputs": [],
   "source": [
    "import requests\n",
    "\n",
    "from bs4 import BeautifulSoup\n",
    "\n",
    "r = requests.get('https://www.comillas.edu/icai')\n",
    "\n",
    "soup = BeautifulSoup(r.text,'lxml')"
   ]
  },
  {
   "cell_type": "markdown",
   "id": "59c95d95",
   "metadata": {},
   "source": [
    "### Tag\n",
    "Este objeto se corresponde con una etiqueta HTML o XML. Por ejemplo, dado el objeto soup, podemos acceder al objeto (tag) que representa al título de la página usando la etiqueta title"
   ]
  },
  {
   "cell_type": "code",
   "execution_count": 4,
   "id": "e697e92b",
   "metadata": {},
   "outputs": [
    {
     "data": {
      "text/plain": [
       "<title>ICAI</title>"
      ]
     },
     "execution_count": 4,
     "metadata": {},
     "output_type": "execute_result"
    }
   ],
   "source": [
    "soup.title"
   ]
  },
  {
   "cell_type": "markdown",
   "id": "8b1971ee",
   "metadata": {},
   "source": [
    "Dado un objeto de tipo Tag, podemos acceder a sus atributos tratando al objeto como si fuera un diccionario. Además, se puede acceder a ese diccionario por medio del atributo attrs:"
   ]
  },
  {
   "cell_type": "code",
   "execution_count": 7,
   "id": "fc114dc3",
   "metadata": {},
   "outputs": [
    {
     "data": {
      "text/plain": [
       "['link', 'hide-mobile']"
      ]
     },
     "execution_count": 7,
     "metadata": {},
     "output_type": "execute_result"
    }
   ],
   "source": [
    "div_class = soup.div\n",
    "div_class['class']"
   ]
  },
  {
   "cell_type": "code",
   "execution_count": 8,
   "id": "920211f3",
   "metadata": {},
   "outputs": [
    {
     "data": {
      "text/plain": [
       "{'class': ['link', 'hide-mobile']}"
      ]
     },
     "execution_count": 8,
     "metadata": {},
     "output_type": "execute_result"
    }
   ],
   "source": [
    "div_class.attrs"
   ]
  },
  {
   "cell_type": "markdown",
   "id": "6fe3eb62",
   "metadata": {},
   "source": [
    "### NavigableString\n",
    "Un objeto de este tipo representa a la cadena de texto que hay contenida en una etiqueta. Se accede por medio de la propiedad string:"
   ]
  },
  {
   "cell_type": "code",
   "execution_count": 9,
   "id": "d2ddc3b5",
   "metadata": {},
   "outputs": [
    {
     "data": {
      "text/plain": [
       "'Menu'"
      ]
     },
     "execution_count": 9,
     "metadata": {},
     "output_type": "execute_result"
    }
   ],
   "source": [
    "primer_parrafo= soup.p\n",
    "texto = primer_parrafo.string\n",
    "texto"
   ]
  },
  {
   "cell_type": "code",
   "execution_count": 10,
   "id": "235809d9",
   "metadata": {},
   "outputs": [
    {
     "data": {
      "text/plain": [
       "bs4.element.NavigableString"
      ]
     },
     "execution_count": 10,
     "metadata": {},
     "output_type": "execute_result"
    }
   ],
   "source": [
    "type(texto)"
   ]
  },
  {
   "cell_type": "markdown",
   "id": "8ffa6dd6",
   "metadata": {},
   "source": [
    "Además, la clase NavigableString es clase padre de otras, entre las que se encuentran:\n",
    "\n",
    " - Comment: Esta clase representa un comentario HTML\n",
    " - Stylesheet: Esta clase representa un código CSS embebido\n",
    " - Script: Esta clase representa un código Javascript embebido"
   ]
  },
  {
   "cell_type": "markdown",
   "id": "fe3a151e",
   "metadata": {},
   "source": [
    "### Navegar a través de los elementos de Beautiful Soup\n",
    "\n",
    "A continuación vamos a ver cómo podemos navegar a través de los objetos del árbol de Beautiful Soup.\n",
    "\n",
    "Lo importante en este punto es que un objeto de tipo Tag puede contener bien otros objetos de tipo Tag, bien objetos de tipo NavegableString."
   ]
  },
  {
   "cell_type": "markdown",
   "id": "7c67adc6",
   "metadata": {},
   "source": [
    "Además, usando los nombres de etiquetas se puede navegar hacia los elementos interiores de un objeto."
   ]
  },
  {
   "cell_type": "code",
   "execution_count": 18,
   "id": "3c2935f3",
   "metadata": {},
   "outputs": [
    {
     "data": {
      "text/plain": [
       "{'id': 'MENU',\n",
       " 'transform': 'translate(-52.000000, -154.000000)',\n",
       " 'stroke': '#9B9B9B'}"
      ]
     },
     "execution_count": 18,
     "metadata": {},
     "output_type": "execute_result"
    }
   ],
   "source": [
    "inter_element =soup.g.g\n",
    "inter_element.attrs"
   ]
  },
  {
   "cell_type": "markdown",
   "id": "64d780ae",
   "metadata": {},
   "source": [
    "Sin embargo, esta forma de acceder a los elementos puede que no sea la más adecuada en todas las situaciones. ¿Por qué? Porque de este modo, Beautiful Soup solo devuelve el primer elemento que se corresponda con la etiqueta."
   ]
  },
  {
   "cell_type": "markdown",
   "id": "772b1ad5",
   "metadata": {},
   "source": [
    "### Hijos y descendientes de un elemento en Beautiful Soup\n",
    "Hay otras formas de acceder a los hijos de un objeto, además de a través de las etiquetas:\n",
    "\n",
    " - **El atributo contents**: Devuelve una lista con todos los hijos de primer nivel de un objeto.\n",
    " - **Usando el generador children**: Devuelve un iterador para recorrer los hijos de primer nivel de un objeto.\n",
    " - **Por medio del generador descendants**: Este atributo devuelve un iterador que permite recorrer todos los hijos de un objeto. No importa el nivel de anidamiento."
   ]
  },
  {
   "cell_type": "code",
   "execution_count": 29,
   "id": "6f5b6465",
   "metadata": {},
   "outputs": [],
   "source": [
    "iner_4g = soup.g.g.g.g"
   ]
  },
  {
   "cell_type": "code",
   "execution_count": 30,
   "id": "efef83df",
   "metadata": {},
   "outputs": [
    {
     "name": "stdout",
     "output_type": "stream",
     "text": [
      "path\n",
      "path\n"
     ]
    }
   ],
   "source": [
    "#contents\n",
    "hijos = iner_4g.contents\n",
    "type(hijos)\n",
    "for child in hijos:\n",
    "    if child.name:\n",
    "        print(child.name)"
   ]
  },
  {
   "cell_type": "code",
   "execution_count": 33,
   "id": "06115f60",
   "metadata": {},
   "outputs": [
    {
     "name": "stdout",
     "output_type": "stream",
     "text": [
      "path\n",
      "path\n"
     ]
    }
   ],
   "source": [
    "#children\n",
    "hijos = iner_4g.children\n",
    "type(hijos)\n",
    "for child in hijos:\n",
    "    if child.name:\n",
    "        print(child.name)"
   ]
  },
  {
   "cell_type": "code",
   "execution_count": 35,
   "id": "a50467fc",
   "metadata": {},
   "outputs": [
    {
     "name": "stdout",
     "output_type": "stream",
     "text": [
      "path\n",
      "path\n"
     ]
    }
   ],
   "source": [
    "#descendants\n",
    "hijos = iner_4g.descendants\n",
    "type(hijos)\n",
    "for child in hijos:\n",
    "    if child.name:\n",
    "        print(child.name)"
   ]
  },
  {
   "cell_type": "markdown",
   "id": "7c26248b",
   "metadata": {},
   "source": [
    "### Padres de un elemento\n",
    "Además de a los hijos, es posible navegar hacia arriba en el árbol accediendo a los objetos padre de un elemento. Usando las propiedades parent y parents:\n",
    "\n",
    " - parent referencia al objeto padre de un elemento (Tag o NavigableString).\n",
    " - parents es un generador que permite recorrer recursivamente todos los elementos padre de uno dado."
   ]
  },
  {
   "cell_type": "markdown",
   "id": "095017fb",
   "metadata": {},
   "source": [
    "## Buscar elementos en Beautiful Soup\n",
    "\n",
    "Beautiful Soup dispone de diferentes métodos para buscar elementos en el árbol. Sin embargo, dos de los principales son find_all() y find().\n",
    "\n",
    "Ambos métodos trabajan de forma similar. Básicamente, buscan entre los descendientes de un objeto de tipo Tag y recuperan todos aquellos que cumplan una serie de filtros.\n",
    "\n",
    "### Filtro por nombre de etiqueta\n",
    "El filtro más básico consiste en pasar el nombre de la etiqueta a buscar como primer argumento de la función (parámetro name)."
   ]
  },
  {
   "cell_type": "code",
   "execution_count": 36,
   "id": "2706b872",
   "metadata": {},
   "outputs": [
    {
     "name": "stdout",
     "output_type": "stream",
     "text": [
      "<link href=\"https://cookiescdn.elixregtech.com/o/1/1/3/estyle_min.css\" rel=\"stylesheet\"/>\n",
      "<link href=\"https://cookiescdn.elixregtech.com/o/1/1/3/client.css\" rel=\"stylesheet\"/>\n",
      "<link href=\"https://fonts.googleapis.com/css?family=Source+Sans+Pro:300,400,700\" rel=\"stylesheet\"/>\n",
      "<link href=\"/templates/comillascentros/css/libs/owl.carousel.css\" rel=\"stylesheet\" type=\"text/css\"/>\n",
      "<link href=\"/templates/comillascentros/css/libs/owl.theme.default.css\" rel=\"stylesheet\" type=\"text/css\"/>\n",
      "<link href=\"/templates/comillascentros/css/site.css\" rel=\"stylesheet\" type=\"text/css\"/>\n",
      "<link href=\"/templates/comillascentros/css/home.css\" rel=\"stylesheet\" type=\"text/css\"/>\n",
      "<link href=\"/templates/comillascentros/css/comillas.css\" rel=\"stylesheet\" type=\"text/css\"/>\n",
      "<link href=\"/templates/comillascentros/css/propios.css\" rel=\"stylesheet\" type=\"text/css\"/>\n",
      "<link href=\"/media/coalawebsociallinks/modules/sociallinks/css/cw-default.css\" rel=\"stylesheet\"/>\n",
      "<link href=\"/media/coalawebsociallinks/components/sociallinks/themes-icon/cws-square/cwsl_style.css\" rel=\"stylesheet\"/>\n"
     ]
    }
   ],
   "source": [
    "#buscar etiqueta link\n",
    "enlaces = soup.find_all('link')\n",
    "\n",
    "for enlace in enlaces:\n",
    "    print(enlace)"
   ]
  },
  {
   "cell_type": "markdown",
   "id": "b87e5566",
   "metadata": {},
   "source": [
    "### Filtro por atributos\n",
    "Además del nombre de la etiqueta, se puede especificar parámetros con nombre. Si estos no coinciden con los nombres de los parámetros de la función, serán tratados como atributos de la etiqueta entre los que filtrar."
   ]
  },
  {
   "cell_type": "code",
   "execution_count": 37,
   "id": "39859b24",
   "metadata": {},
   "outputs": [
    {
     "name": "stdout",
     "output_type": "stream",
     "text": [
      "[<g fill=\"none\" fill-rule=\"evenodd\" id=\"ICO/FORMULARIO-GRADO\" stroke=\"none\" stroke-width=\"1\">\n",
      "<g fill=\"#FFB81C\" fill-rule=\"nonzero\" id=\"change_c\" transform=\"translate(4.000000, 16.000000)\">\n",
      "<path d=\"M13.5411417,8.77076189e-15 L0.860433071,8.77076189e-15 C0.384448819,8.77076189e-15 -4.4408921e-15,0.384448819 -4.4408921e-15,0.860433071 C-4.4408921e-15,1.33641732 0.384448819,1.72086614 0.860433071,1.72086614 L13.5411417,1.72086614 C14.017126,1.72086614 14.4015748,1.33641732 14.4015748,0.860433071 C14.4015748,0.384448819 14.017126,8.77076189e-15 13.5411417,8.77076189e-15 Z\" id=\"Shape\"></path>\n",
      "<path d=\"M13.5411417,4 L0.860433071,4 C0.384448819,4 -4.4408921e-15,4.38444882 -4.4408921e-15,4.86043307 C-4.4408921e-15,5.33641732 0.384448819,5.72086614 0.860433071,5.72086614 L13.5411417,5.72086614 C14.017126,5.72086614 14.4015748,5.33641732 14.4015748,4.86043307 C14.4015748,4.38444882 14.017126,4 13.5411417,4 Z\" id=\"Shape\"></path>\n",
      "<path d=\"M4.54114173,8 L0.860433071,8 C0.384448819,8 0,8.38425533 0,8.86000001 C0,9.3357447 0.384448819,9.72000003 0.860433071,9.72000003 L4.54114173,9.72000003 C5.01712598,9.72000003 5.4015748,9.3357447 5.4015748,8.86000001 C5.4015748,8.38425533 5.01712598,8 4.54114173,8 Z\" id=\"Shape-Copy\"></path>\n",
      "</g>\n",
      "<g id=\"Group-7\" stroke=\"#9B9B9B\" stroke-linejoin=\"round\" transform=\"translate(1.000000, 0.000000)\">\n",
      "<polyline id=\"Stroke-1\" points=\"21 13.2395 21 29 0 29 0 3 10.5 3\" stroke-linecap=\"round\" stroke-width=\"2\"></polyline>\n",
      "<path d=\"M12.6482024,10.8650497 L10,12 L11.1349439,9.35178253 L20.214495,0.272179787 C21.1069393,-0.6202695 22.6205761,0.892240991 21.7277536,1.78544691 L12.6482024,10.8650497 Z\" id=\"Stroke-3\" stroke-linecap=\"round\"></path>\n",
      "<path d=\"M18,2 L20,4\" id=\"Stroke-5\" stroke-width=\"2\"></path>\n",
      "</g>\n",
      "</g>, <g fill=\"none\" fill-rule=\"evenodd\" id=\"ICO/FORMULARIO-GRADO\" stroke=\"none\" stroke-width=\"1\">\n",
      "<g fill=\"#FFB81C\" fill-rule=\"nonzero\" id=\"change_c\" transform=\"translate(4.000000, 16.000000)\">\n",
      "<path d=\"M13.5411417,8.77076189e-15 L0.860433071,8.77076189e-15 C0.384448819,8.77076189e-15 -4.4408921e-15,0.384448819 -4.4408921e-15,0.860433071 C-4.4408921e-15,1.33641732 0.384448819,1.72086614 0.860433071,1.72086614 L13.5411417,1.72086614 C14.017126,1.72086614 14.4015748,1.33641732 14.4015748,0.860433071 C14.4015748,0.384448819 14.017126,8.77076189e-15 13.5411417,8.77076189e-15 Z\" id=\"Shape\"></path>\n",
      "<path d=\"M13.5411417,4 L0.860433071,4 C0.384448819,4 -4.4408921e-15,4.38444882 -4.4408921e-15,4.86043307 C-4.4408921e-15,5.33641732 0.384448819,5.72086614 0.860433071,5.72086614 L13.5411417,5.72086614 C14.017126,5.72086614 14.4015748,5.33641732 14.4015748,4.86043307 C14.4015748,4.38444882 14.017126,4 13.5411417,4 Z\" id=\"Shape\"></path>\n",
      "<path d=\"M4.54114173,8 L0.860433071,8 C0.384448819,8 0,8.38425533 0,8.86000001 C0,9.3357447 0.384448819,9.72000003 0.860433071,9.72000003 L4.54114173,9.72000003 C5.01712598,9.72000003 5.4015748,9.3357447 5.4015748,8.86000001 C5.4015748,8.38425533 5.01712598,8 4.54114173,8 Z\" id=\"Shape-Copy\"></path>\n",
      "</g>\n",
      "<g id=\"Group-7\" stroke=\"#9B9B9B\" stroke-linejoin=\"round\" transform=\"translate(1.000000, 0.000000)\">\n",
      "<polyline id=\"Stroke-1\" points=\"21 13.2395 21 29 0 29 0 3 10.5 3\" stroke-linecap=\"round\" stroke-width=\"2\"></polyline>\n",
      "<path d=\"M12.6482024,10.8650497 L10,12 L11.1349439,9.35178253 L20.214495,0.272179787 C21.1069393,-0.6202695 22.6205761,0.892240991 21.7277536,1.78544691 L12.6482024,10.8650497 Z\" id=\"Stroke-3\" stroke-linecap=\"round\"></path>\n",
      "<path d=\"M18,2 L20,4\" id=\"Stroke-5\" stroke-width=\"2\"></path>\n",
      "</g>\n",
      "</g>]\n"
     ]
    }
   ],
   "source": [
    "ico_form = soup.find_all(id='ICO/FORMULARIO-GRADO')\n",
    "print(ico_form)"
   ]
  },
  {
   "cell_type": "markdown",
   "id": "0b3067a7",
   "metadata": {},
   "source": [
    "### Filtro por clases CSS\n",
    "Otro filtro muy común que se suele aplicar es identificar un elemento a partir de sus clases de CSS."
   ]
  },
  {
   "cell_type": "code",
   "execution_count": 39,
   "id": "e60fb7a6",
   "metadata": {},
   "outputs": [
    {
     "name": "stdout",
     "output_type": "stream",
     "text": [
      "[<div class=\"content\">\n",
      "<p>\n",
      "                        Tour virtual                    </p>\n",
      "</div>, <div class=\"content\">\n",
      "<p>\n",
      "                    SOLICITAR ADMISIÓN                </p>\n",
      "</div>, <div class=\"content form\">\n",
      "<p>\n",
      "                        Descargar folleto                    </p>\n",
      "<?php //Pedro López 20-7-2022 - Mensaje de Vacaciones?>\n",
      "<!--<hr>\n",
      "                    <p style=\"font: normal 13px/15px 'Source Sans Pro';text-transform: none;text-align: left;\">La Oficina de Nuevos Alumnos permanecerá cerrada del <strong>22 de julio al 24 de agosto</strong>.\n",
      "                        <br>Le responderemos lo antes posible a la vuelta.\n",
      "                        <br>Para incidencias técnicas urgentes, por favor, contacte con: incidencias.stic@comillas.edu\n",
      "                        <br>Gracias.\n",
      "                    </p>\n",
      "                    <hr>-->\n",
      "<form action=\"https://www.comillas.edu/solicitainformacion/enviarformularioleads.php\" data-parsley-validate=\"\" id=\"formularioleads\" method=\"post\" role=\"form\">\n",
      "<div class=\"form-group\">\n",
      "<input autocomplete=\"off\" class=\"form-control\" id=\"first_name\" name=\"first_name\" placeholder=\"Nombre\" required=\"\" type=\"text\"/>\n",
      "</div>\n",
      "<div class=\"form-group\">\n",
      "<input autocomplete=\"off\" class=\"form-control\" id=\"last_name\" name=\"last_name\" placeholder=\"Apellidos\" required=\"\" type=\"text\"/>\n",
      "</div>\n",
      "<div class=\"form-group\">\n",
      "<input autocomplete=\"off\" class=\"form-control\" id=\"email\" name=\"email\" placeholder=\"Email\" required=\"\" type=\"email\"/>\n",
      "</div>\n",
      "<div class=\"form-group\">\n",
      "<input autocomplete=\"off\" class=\"form-control\" data-parsley-maxlength=\"9\" id=\"phone_number\" name=\"phone_number\" placeholder=\"Teléfono\" required=\"\" type=\"number\"/>\n",
      "</div>\n",
      "<div class=\"form-group\">\n",
      "<input autocomplete=\"off\" class=\"form-control\" data-parsley-maxlength=\"5\" id=\"postcode\" name=\"postcode\" placeholder=\"Código postal\" required=\"\" type=\"number\"/>\n",
      "</div>\n",
      "<div class=\"checkbox\">\n",
      "<label>\n",
      "<input id=\"chkCesionDatosformulestudio\" name=\"chkCesionDatosformulestudio\" required=\"\" type=\"checkbox\"/>\n",
      "                                Acepto los  <a href=\"https://www.comillas.edu/es/ProteccionDeDatos/clausula-te-informamos\" onclick=\"clausula();return true;\" target=\"_blank\">términos legales</a>\n",
      "</label>\n",
      "</div>\n",
      "<input id=\"estudio\" name=\"estudio\" type=\"hidden\" value=\"ICAI - Home\"/>\n",
      "<input class=\"btn btn-default\" id=\"btnInscribirseformulestudio\" name=\"btnInscribirseformulestudio\" type=\"submit\" value=\"Descargar PDF\"/>\n",
      "</form>\n",
      "</div>, <div class=\"content\">\n",
      "<p>\n",
      "                        Tour virtual                    </p>\n",
      "</div>, <div class=\"content\">\n",
      "<p>\n",
      "                        SOLICITAR ADMISIÓN                    </p>\n",
      "</div>, <div class=\"content form\">\n",
      "<p>\n",
      "                        Descargar folleto                    </p>\n",
      "<form action=\"https://www.comillas.edu/solicitainformacion/enviarformularioleads.php\" data-parsley-validate=\"\" id=\"formularioleads\" method=\"post\" role=\"form\">\n",
      "<?php //Pedro López 20-7-2022 - Mensaje de Vacaciones?>\n",
      "<!--<hr>\n",
      "                        <p class=\"form-control\" style=\"font: normal 13px/15px 'Source Sans Pro';text-transform: none;text-align: left; display:table;\">La Oficina de Nuevos Alumnos permanecerá cerrada del <strong>22 de julio al 24 de agosto</strong>.\n",
      "                            <br>Le responderemos lo antes posible a la vuelta.\n",
      "                            <br>Para incidencias técnicas urgentes, por favor, contacte con: incidencias.stic@comillas.edu\n",
      "                            <br>Gracias.\n",
      "                        </p>\n",
      "                        <hr>-->\n",
      "<div class=\"form-group\">\n",
      "<input autocomplete=\"off\" class=\"form-control\" id=\"first_name\" name=\"first_name\" placeholder=\"Nombre\" required=\"\" type=\"text\"/>\n",
      "</div>\n",
      "<div class=\"form-group\">\n",
      "<input autocomplete=\"off\" class=\"form-control\" id=\"last_name\" name=\"last_name\" placeholder=\"Apellidos\" required=\"\" type=\"text\"/>\n",
      "</div>\n",
      "<div class=\"form-group\">\n",
      "<input autocomplete=\"off\" class=\"form-control\" id=\"email\" name=\"email\" placeholder=\"Email\" required=\"\" type=\"email\"/>\n",
      "</div>\n",
      "<div class=\"form-group\">\n",
      "<input autocomplete=\"off\" class=\"form-control\" data-parsley-maxlength=\"9\" id=\"phone_number\" name=\"phone_number\" placeholder=\"Teléfono\" required=\"\" type=\"number\"/>\n",
      "</div>\n",
      "<div class=\"form-group\">\n",
      "<input autocomplete=\"off\" class=\"form-control\" data-parsley-maxlength=\"5\" id=\"postcode\" name=\"postcode\" placeholder=\"Código postal\" required=\"\" type=\"number\"/>\n",
      "</div>\n",
      "<div class=\"checkbox\">\n",
      "<label>\n",
      "<input id=\"chkCesionDatosformulestudio\" name=\"chkCesionDatosformulestudio\" required=\"\" type=\"checkbox\"/>\n",
      "                                Acepto los  <a href=\"https://www.comillas.edu/es/ProteccionDeDatos/clausula-te-informamos\" onclick=\"clausula();return true;\" target=\"_blank\">términos legales</a>\n",
      "</label>\n",
      "</div>\n",
      "<input id=\"estudio\" name=\"estudio\" type=\"hidden\" value=\"ICAI - Home\"/>\n",
      "<input class=\"btn btn-default\" id=\"btnInscribirseformulestudio\" name=\"btnInscribirseformulestudio\" type=\"submit\" value=\"Descargar PDF\"/>\n",
      "</form>\n",
      "</div>]\n"
     ]
    }
   ],
   "source": [
    "link_divs = soup.find_all('div',class_='content')\n",
    "print(link_divs)"
   ]
  },
  {
   "cell_type": "markdown",
   "id": "6b1c71df",
   "metadata": {},
   "source": [
    "### Limitando las búsquedas\n",
    "find_all() devuelve una lista de objetos. Internamente, el método tiene que recorrer todos los hijos del objeto invocador en busca de aquellos que cumplan los diferentes filtros. En ocasiones, si el árbol (o documento) es muy grande, esta función puede tardar un poco. Se puede optimizar con los siguientes parámetros:\n",
    "\n",
    " - limit: Indica el número de resultados a devolver por la función. Una vez encontrados, la función deja de buscar.\n",
    " - recursive: Indica si la función debe buscar entre todos los elementos hijos de un objeto o solo aquellos de primer nivel. Por defecto es True."
   ]
  },
  {
   "cell_type": "code",
   "execution_count": null,
   "id": "e3b987cf",
   "metadata": {},
   "outputs": [],
   "source": []
  },
  {
   "cell_type": "code",
   "execution_count": null,
   "id": "926dc41e",
   "metadata": {},
   "outputs": [],
   "source": []
  }
 ],
 "metadata": {
  "kernelspec": {
   "display_name": "Python 3",
   "language": "python",
   "name": "python3"
  },
  "language_info": {
   "codemirror_mode": {
    "name": "ipython",
    "version": 3
   },
   "file_extension": ".py",
   "mimetype": "text/x-python",
   "name": "python",
   "nbconvert_exporter": "python",
   "pygments_lexer": "ipython3",
   "version": "3.10.4 (tags/v3.10.4:9d38120, Mar 23 2022, 23:13:41) [MSC v.1929 64 bit (AMD64)]"
  },
  "vscode": {
   "interpreter": {
    "hash": "d05691eccb2780842dc4c5051ec86b6ab869893fb5ea51b5667df60f1bce243c"
   }
  }
 },
 "nbformat": 4,
 "nbformat_minor": 5
}
